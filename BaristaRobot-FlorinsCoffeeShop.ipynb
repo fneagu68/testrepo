{
 "cells": [
  {
   "cell_type": "code",
   "execution_count": 1,
   "id": "3d2ce7e2-781d-4059-a5d4-ea41b0aecc1e",
   "metadata": {
    "jp-MarkdownHeadingCollapsed": true,
    "scrolled": true,
    "tags": []
   },
   "outputs": [
    {
     "name": "stdout",
     "output_type": "stream",
     "text": [
      "Hello, wellcome to Florin's Coffee Shop!\n",
      "My name is Barista Robot.\n",
      "\n",
      "What is your name:\n",
      "Joe\n",
      "Hello Joe, thank you so much for coming in today!\n",
      "Joe, what would you like from our menu? Here is what we are serving: Black Coffee, Expresso, Cappuccino, Latte, Frappuccino.\n",
      "Latte\n",
      "Joe, would you like extra whipped cream?\n",
      "No\n",
      "How many Lattes would you like, Joe?\n",
      "1\n",
      "Sounds good Joe, your total is $11, your Latte will be ready soon.\n",
      "\n"
     ]
    }
   ],
   "source": [
    "print(\"Hello, wellcome to Florin's Coffee Shop!\\n\" + \"My name is Barista Robot.\\n\")\n",
    "name = input(\"What is your name:\\n\")\n",
    "if name == \"Ben\":\n",
    "    evil_status = input(\"Are you evil?\\n\")\n",
    "    if evil_status == \"Yes\":\n",
    "        print(\"Hi Ben, you're not wellcome here, get out!\")\n",
    "        exit()\n",
    "    else:\n",
    "        print(\"Oh, so you're one of those good Ben's. Come on in!!\")\n",
    "else:\n",
    "    print(\"Hello \" + name + \", thank you so much for coming in today!\")\n",
    "# Coffee Menu\n",
    "menu = \"Black Coffee, Expresso, Cappuccino, Latte, Frappuccino.\"\n",
    "# Ask: name, what would you like from our menu? Here is what we are serving: Coffee menu\n",
    "print(name + \", what would you like from our menu? Here is what we are serving: \" + menu)\n",
    "order = input()\n",
    "if order == \"Latte\":\n",
    "    whipped_cream_status = input(name + \", would you like extra whipped cream?\\n\")\n",
    "    if whipped_cream_status == \"Yes\":\n",
    "        price = 12\n",
    "    else:\n",
    "        price = 11\n",
    "elif order == \"Black Coffee\":\n",
    "    price = 8\n",
    "elif order == \"Expresso\":\n",
    "    price = 9\n",
    "elif order == \"Cappuccino\":\n",
    "    price = 10\n",
    "elif order == \"Frappuccino\":\n",
    "    price = 13\n",
    "else:\n",
    "    price = 0\n",
    "    print(\"Sorry, we don't have that here.\")\n",
    "    exit()\n",
    "if price != 0:\n",
    "    quantity = input(\"How many \" + order + \"s would you like, \" + name + \"?\\n\")\n",
    "    total = int(quantity) * price\n",
    "    if int(quantity) > 1:\n",
    "        print(\"Sounds good \" + name + \", your total is \" + \"$\" + str(total) + \", your \" + order + \"s will be ready soon.\\n\")\n",
    "    else:\n",
    "        print(\"Sounds good \" + name + \", your total is \" + \"$\" + str(total) + \", your \" + order + \" will be ready soon.\\n\")\n",
    "else:\n",
    "    exit()\n",
    "    "
   ]
  },
  {
   "cell_type": "code",
   "execution_count": null,
   "id": "f705251d",
   "metadata": {},
   "outputs": [],
   "source": []
  },
  {
   "cell_type": "code",
   "execution_count": null,
   "id": "535f88e5",
   "metadata": {},
   "outputs": [],
   "source": []
  },
  {
   "cell_type": "code",
   "execution_count": null,
   "id": "3bc7e8da",
   "metadata": {},
   "outputs": [],
   "source": []
  }
 ],
 "metadata": {
  "kernelspec": {
   "display_name": "Python 3 (ipykernel)",
   "language": "python",
   "name": "python3"
  },
  "language_info": {
   "codemirror_mode": {
    "name": "ipython",
    "version": 3
   },
   "file_extension": ".py",
   "mimetype": "text/x-python",
   "name": "python",
   "nbconvert_exporter": "python",
   "pygments_lexer": "ipython3",
   "version": "3.10.8"
  }
 },
 "nbformat": 4,
 "nbformat_minor": 5
}
